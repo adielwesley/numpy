{
 "cells": [
  {
   "cell_type": "markdown",
   "metadata": {},
   "source": [
    "# Numpy - Criação de Arrays e Operações\n",
    "\n",
    "**Disciplina**: Programação para Ciência dos Dados  \n",
    "**Docentes**: Elloá B. Guedes e Tiago E. de Melo  \n",
    "**Contato:** ebgcosta@uea.edu.br, tmelo@uea.edu.br  \n",
    "**Github:** http://github.com/elloa/numpy\n",
    "\n",
    "## Apresentação\n",
    "\n",
    "Este notebook deverá ser utilizado para a prática dos conceitos relativos à biblioteca numpy."
   ]
  },
  {
   "cell_type": "code",
   "execution_count": 2,
   "metadata": {},
   "outputs": [],
   "source": [
    "import numpy as np"
   ]
  },
  {
   "cell_type": "markdown",
   "metadata": {},
   "source": [
    "## Parte 1.1: Criação de ndarrays\n",
    "\n",
    "1. Crie um ndarray a partir de uma lista de inteiros de 1 a 100\n",
    "2. Obtenha o tipo do objeto e o tipo de dados nele contidos\n",
    "3. Qual a dimensão deste array?\n",
    "4. Obtenha o rank deste array.\n",
    "4. Crie um novo array de dimensão (100,1) a partir da lista inicial\n",
    "5. Crie um ndarray de rank igual a 3 e dimensões 2x2x2"
   ]
  },
  {
   "cell_type": "code",
   "execution_count": 3,
   "metadata": {},
   "outputs": [
    {
     "name": "stdout",
     "output_type": "stream",
     "text": [
      "[  1   2   3   4   5   6   7   8   9  10  11  12  13  14  15  16  17  18\n",
      "  19  20  21  22  23  24  25  26  27  28  29  30  31  32  33  34  35  36\n",
      "  37  38  39  40  41  42  43  44  45  46  47  48  49  50  51  52  53  54\n",
      "  55  56  57  58  59  60  61  62  63  64  65  66  67  68  69  70  71  72\n",
      "  73  74  75  76  77  78  79  80  81  82  83  84  85  86  87  88  89  90\n",
      "  91  92  93  94  95  96  97  98  99 100]\n"
     ]
    }
   ],
   "source": [
    "# 1\n",
    "mlist = list(range(1,101))\n",
    "marray = np.array(mlist)\n",
    "print(marray)"
   ]
  },
  {
   "cell_type": "code",
   "execution_count": 4,
   "metadata": {},
   "outputs": [
    {
     "name": "stdout",
     "output_type": "stream",
     "text": [
      "Tipo do objeto: <class 'numpy.ndarray'>\n",
      "Tipo dos dados contidos no array: int64\n"
     ]
    }
   ],
   "source": [
    "# 2\n",
    "print('Tipo do objeto:',type(marray))\n",
    "print('Tipo dos dados contidos no array:',marray.dtype)"
   ]
  },
  {
   "cell_type": "code",
   "execution_count": 5,
   "metadata": {},
   "outputs": [
    {
     "name": "stdout",
     "output_type": "stream",
     "text": [
      "A dimensão do array é: (100,)\n"
     ]
    }
   ],
   "source": [
    "# 3\n",
    "print('A dimensão do array é:',marray.shape)"
   ]
  },
  {
   "cell_type": "code",
   "execution_count": 6,
   "metadata": {},
   "outputs": [
    {
     "name": "stdout",
     "output_type": "stream",
     "text": [
      "O rank deste array é: 1\n"
     ]
    }
   ],
   "source": [
    "# 4\n",
    "print('O rank deste array é:',np.ndim(marray))"
   ]
  },
  {
   "cell_type": "code",
   "execution_count": 16,
   "metadata": {},
   "outputs": [
    {
     "name": "stdout",
     "output_type": "stream",
     "text": [
      "(100, 1)\n"
     ]
    }
   ],
   "source": [
    "# 5 \n",
    "marray2 = np.array([[item] for item in mlist])\n",
    "print(marray2.shape)"
   ]
  },
  {
   "cell_type": "code",
   "execution_count": 8,
   "metadata": {},
   "outputs": [
    {
     "name": "stdout",
     "output_type": "stream",
     "text": [
      "O rank deste array é: 3\n",
      "As dimensões deste array são: (2, 2, 2)\n"
     ]
    }
   ],
   "source": [
    "# 6\n",
    "marray3d = np.array([[[1,2],[1,2]],[[1,2],[1,2]]])\n",
    "print('O rank deste array é:',np.ndim(marray3d))\n",
    "print('As dimensões deste array são:', marray3d.shape)"
   ]
  },
  {
   "cell_type": "markdown",
   "metadata": {},
   "source": [
    "É possível criar um ndarray a partir da lista a seguir?\n",
    "\n",
    "$$lista = [[1,2],[3,4,5],[6,7,8,9]]$$"
   ]
  },
  {
   "cell_type": "code",
   "execution_count": 20,
   "metadata": {},
   "outputs": [
    {
     "name": "stdout",
     "output_type": "stream",
     "text": [
      "Array: [list([1, 2]) list([3, 4, 5]) list([6, 7, 8, 9])]\n",
      "Tipo do array: <class 'numpy.ndarray'>\n",
      "\n",
      "Logo, é possível. O array tem 1 dimensão e shape (3,)\n",
      "O tipo dos itens contidos no array é  object .\n",
      "Contudo, não será possível acessar os números inteiros dentro das listas...\n",
      "Pois o tipo atômico é o objeto da lista.\n"
     ]
    }
   ],
   "source": [
    "narray = np.array([[1,2],[3,4,5],[6,7,8,9]])\n",
    "print('Array:',narray)\n",
    "print(\"Tipo do array:\",type(narray))\n",
    "\n",
    "print()\n",
    "print(\"Logo, é possível. O array tem\",np.ndim(narray),\"dimensão e shape\",narray.shape)\n",
    "print(\"O tipo dos itens contidos no array é \", narray.dtype, \".\")\n",
    "print(\"Contudo, não será possível acessar os números inteiros dentro das listas...\")\n",
    "print(\"Pois o tipo atômico é o objeto da lista.\")"
   ]
  },
  {
   "cell_type": "markdown",
   "metadata": {},
   "source": [
    "Qual o tipo de dados contidos no array criado a partir da lista a seguir?\n",
    "\n",
    "$$[-1, 1, 2.0, 3.15]$$"
   ]
  },
  {
   "cell_type": "code",
   "execution_count": 25,
   "metadata": {},
   "outputs": [
    {
     "name": "stdout",
     "output_type": "stream",
     "text": [
      "O tipo dos dados contidos no array é float64 .\n",
      "O tipo atribuído aos elementos deve ter capacidade de representação\n",
      "para todos os valores contidos na lista.\n"
     ]
    }
   ],
   "source": [
    "xarray = np.array([-1,1,2.0,3.15])\n",
    "print(\"O tipo dos dados contidos no array é\", xarray.dtype,\".\\nO tipo atribuído aos elementos deve ter capacidade de representação\\npara todos os valores contidos na lista.\")"
   ]
  },
  {
   "cell_type": "markdown",
   "metadata": {},
   "source": [
    "## Parte 1.2: Coerção de tipos em ndarrays\n",
    "\n",
    "\n",
    "0. Cuidado!\n",
    "1. **Primeira forma**: passar o dtype como parâmetro  \n",
    "```python\n",
    "np.array([1,2,3],dtype = \"complex\")\n",
    "```\n",
    "2. **Segunda forma**: coerção de tipos\n",
    "```python\n",
    "a = np.array([1,2,3])\n",
    "a = a.astype(\"float\")\n",
    "```\n",
    "3. Os tipos de dados disponíveis na biblioteca numpy são listados em:  \n",
    "https://numpy.org/devdocs/user/basics.types.html\n"
   ]
  },
  {
   "cell_type": "code",
   "execution_count": 11,
   "metadata": {},
   "outputs": [
    {
     "name": "stdout",
     "output_type": "stream",
     "text": [
      "O tipo dos dados contidos no array na primeira forma é complex128\n"
     ]
    }
   ],
   "source": [
    "# 1\n",
    "yarray = np.array([1,2,3], dtype = \"complex\")\n",
    "print('O tipo dos dados contidos no array na primeira forma é', yarray.dtype)"
   ]
  },
  {
   "cell_type": "code",
   "execution_count": 12,
   "metadata": {},
   "outputs": [
    {
     "name": "stdout",
     "output_type": "stream",
     "text": [
      "O tipo dos dados contidos no array antes da coerção de tipos é int64\n",
      "O tipo dos dados contidos no array depois da coerção de tipos é float64\n"
     ]
    }
   ],
   "source": [
    "yarray = np.array([1,2,3])\n",
    "print('O tipo dos dados contidos no array antes da coerção de tipos é', yarray.dtype)\n",
    "yarray = yarray.astype(\"float\")\n",
    "print('O tipo dos dados contidos no array depois da coerção de tipos é', yarray.dtype)"
   ]
  },
  {
   "cell_type": "markdown",
   "metadata": {},
   "source": [
    "Quais as implicações da coerção de tipo a seguir? Execute e observe.\n",
    "\n",
    "```python\n",
    "x = np.array([1.3 + 3j,2 -4j],dtype = \"complex_\")\n",
    "x = x.astype(\"int\")\n",
    "```"
   ]
  },
  {
   "cell_type": "code",
   "execution_count": 13,
   "metadata": {
    "scrolled": true
   },
   "outputs": [
    {
     "name": "stdout",
     "output_type": "stream",
     "text": [
      "O array é: [1.3+3.j 2. -4.j]\n",
      "O tipo dos dados contidos no array é complex128\n",
      "O array, após a coerção, é [1 2] e seu tipo de dados contidos é int64\n"
     ]
    },
    {
     "name": "stderr",
     "output_type": "stream",
     "text": [
      "<ipython-input-13-74c0a45e9492>:4: ComplexWarning: Casting complex values to real discards the imaginary part\n",
      "  x = x.astype(\"int\")\n"
     ]
    }
   ],
   "source": [
    "x = np.array([1.3 + 3j, 2 -4j],dtype = \"complex_\")\n",
    "print ('O array é:',x)\n",
    "print ('O tipo dos dados contidos no array é',x.dtype)\n",
    "x = x.astype(\"int\")\n",
    "print ('O array, após a coerção, é', x, 'e seu tipo de dados contidos é', x.dtype)"
   ]
  },
  {
   "cell_type": "markdown",
   "metadata": {},
   "source": [
    "R: O que acontece é que perdemos informação do número. Neste caso de números complexos, sua parte imaginária."
   ]
  },
  {
   "cell_type": "markdown",
   "metadata": {},
   "source": [
    "## Parte 1.3: Criação intrínseca de arrays\n",
    "\n",
    "1. A partir de np.zeros: Crie uma matriz identidade 3x3 de números inteiros\n",
    "2. A partir de um array unidimensional de np.ones: Crie um array 2x10 preenchido apenas com $\\pi$\n",
    "3. Qual a consequência da execução do código a seguir?\n",
    "```python\n",
    "np.random.random((2,2)).reshape(3,3)\n",
    "```\n",
    "4. Criar um array unidimensional a partir de uma variável aleatória com distribuição normal de média zero e desvio padrão igual a 1.0  \n",
    "  - https://numpy.org/doc/stable/reference/random/generated/numpy.random.normal.html\n",
    "  - Que tal plotar um histograma destes dados?\n",
    "5. Criar amostras no intervalo de [1,100] intervaladas de 0.1  \n",
    "   5.1 Com uma lista  \n",
    "   5.2 Com np.arange  \n",
    "6. Crie um linspace no intervalo $[-2\\pi,2\\pi]$ com mil amostras  \n",
    "   6.1 Obtenha o seno e o coseno destes valores  \n",
    "   6.2 Plote o gráfico destas funções  "
   ]
  },
  {
   "cell_type": "code",
   "execution_count": 33,
   "metadata": {},
   "outputs": [
    {
     "ename": "NameError",
     "evalue": "name 'shape' is not defined",
     "output_type": "error",
     "traceback": [
      "\u001b[0;31m---------------------------------------------------------------------------\u001b[0m",
      "\u001b[0;31mNameError\u001b[0m                                 Traceback (most recent call last)",
      "\u001b[0;32m<ipython-input-33-d93e4b0b83dc>\u001b[0m in \u001b[0;36m<module>\u001b[0;34m\u001b[0m\n\u001b[1;32m      2\u001b[0m \u001b[0mident\u001b[0m \u001b[0;34m=\u001b[0m \u001b[0mnp\u001b[0m\u001b[0;34m.\u001b[0m\u001b[0mzeros\u001b[0m\u001b[0;34m(\u001b[0m\u001b[0;34m(\u001b[0m\u001b[0;36m3\u001b[0m\u001b[0;34m,\u001b[0m\u001b[0;36m3\u001b[0m\u001b[0;34m)\u001b[0m\u001b[0;34m)\u001b[0m\u001b[0;34m\u001b[0m\u001b[0;34m\u001b[0m\u001b[0m\n\u001b[1;32m      3\u001b[0m \u001b[0;32mfor\u001b[0m \u001b[0mi\u001b[0m \u001b[0;32min\u001b[0m \u001b[0mrange\u001b[0m\u001b[0;34m(\u001b[0m\u001b[0;36m0\u001b[0m\u001b[0;34m,\u001b[0m\u001b[0mident\u001b[0m\u001b[0;34m.\u001b[0m\u001b[0mshape\u001b[0m\u001b[0;34m[\u001b[0m\u001b[0;36m1\u001b[0m\u001b[0;34m]\u001b[0m\u001b[0;34m)\u001b[0m\u001b[0;34m:\u001b[0m\u001b[0;34m\u001b[0m\u001b[0;34m\u001b[0m\u001b[0m\n\u001b[0;32m----> 4\u001b[0;31m     \u001b[0;32mfor\u001b[0m \u001b[0mj\u001b[0m \u001b[0;32min\u001b[0m \u001b[0mrange\u001b[0m\u001b[0;34m(\u001b[0m\u001b[0;36m0\u001b[0m\u001b[0;34m,\u001b[0m\u001b[0mshape\u001b[0m\u001b[0;34m[\u001b[0m\u001b[0;36m2\u001b[0m\u001b[0;34m]\u001b[0m\u001b[0;34m)\u001b[0m\u001b[0;34m:\u001b[0m\u001b[0;34m\u001b[0m\u001b[0;34m\u001b[0m\u001b[0m\n\u001b[0m\u001b[1;32m      5\u001b[0m         \u001b[0;32mif\u001b[0m\u001b[0;34m(\u001b[0m\u001b[0mi\u001b[0m\u001b[0;34m==\u001b[0m\u001b[0mj\u001b[0m\u001b[0;34m)\u001b[0m\u001b[0;34m:\u001b[0m\u001b[0;34m\u001b[0m\u001b[0;34m\u001b[0m\u001b[0m\n\u001b[1;32m      6\u001b[0m             \u001b[0mident\u001b[0m\u001b[0;34m[\u001b[0m\u001b[0mi\u001b[0m\u001b[0;34m]\u001b[0m\u001b[0;34m[\u001b[0m\u001b[0mj\u001b[0m\u001b[0;34m]\u001b[0m \u001b[0;34m=\u001b[0m \u001b[0;36m1\u001b[0m\u001b[0;34m\u001b[0m\u001b[0;34m\u001b[0m\u001b[0m\n",
      "\u001b[0;31mNameError\u001b[0m: name 'shape' is not defined"
     ]
    }
   ],
   "source": [
    "# 1\n",
    "ident = np.zeros((3,3))\n",
    "for i in range(0,ident.shape[1]):\n",
    "    for j in range(0,shape[2]):\n",
    "        if(i==j):\n",
    "            ident[i][j] = 1\n",
    "print(ident)"
   ]
  },
  {
   "cell_type": "code",
   "execution_count": null,
   "metadata": {},
   "outputs": [],
   "source": [
    "# 2"
   ]
  },
  {
   "cell_type": "code",
   "execution_count": null,
   "metadata": {},
   "outputs": [],
   "source": []
  },
  {
   "cell_type": "code",
   "execution_count": null,
   "metadata": {},
   "outputs": [],
   "source": []
  },
  {
   "cell_type": "code",
   "execution_count": null,
   "metadata": {},
   "outputs": [],
   "source": []
  },
  {
   "cell_type": "code",
   "execution_count": null,
   "metadata": {},
   "outputs": [],
   "source": []
  },
  {
   "cell_type": "code",
   "execution_count": null,
   "metadata": {},
   "outputs": [],
   "source": []
  },
  {
   "cell_type": "code",
   "execution_count": null,
   "metadata": {},
   "outputs": [],
   "source": []
  },
  {
   "cell_type": "markdown",
   "metadata": {},
   "source": [
    "## Parte 2.1 - Operações elemento-a-elemento\n",
    "\n",
    "1. Crie um array bidimensional (2,5) de uns\n",
    "2. Crie um array mesmo formato que o anterior, mas gerado aleatoriamente de maneira uniforme\n",
    "3. Some os dois arrays e armazene o resultado em uma variável\n",
    "2. Eleve os elementos do array anterior ao quadrado e, em seguida, subtraia 1"
   ]
  },
  {
   "cell_type": "code",
   "execution_count": null,
   "metadata": {},
   "outputs": [],
   "source": []
  },
  {
   "cell_type": "code",
   "execution_count": null,
   "metadata": {},
   "outputs": [],
   "source": []
  },
  {
   "cell_type": "code",
   "execution_count": null,
   "metadata": {},
   "outputs": [],
   "source": []
  },
  {
   "cell_type": "code",
   "execution_count": null,
   "metadata": {},
   "outputs": [],
   "source": []
  },
  {
   "cell_type": "markdown",
   "metadata": {},
   "source": [
    "## Parte 2.2 - Multiplicando arrays\n",
    "\n",
    "1. Obtenha 2 arrays aleatoriamente gerados de dimensão 2x2\n",
    "2. Multiplique as matrizes com o operador * e justifique o resultado\n",
    "3. Multiplique as matrizes com o produto dot\n",
    "4. Verifique se as operações a seguir são possíveis. O que as impede de ser realizada?\n",
    "```python\n",
    "a = np.ones((1,5))\n",
    "b = np.random.random((3,2))\n",
    "a*b\n",
    "a.dot(b)\n",
    "```\n"
   ]
  },
  {
   "cell_type": "code",
   "execution_count": null,
   "metadata": {},
   "outputs": [],
   "source": []
  },
  {
   "cell_type": "code",
   "execution_count": null,
   "metadata": {},
   "outputs": [],
   "source": []
  },
  {
   "cell_type": "code",
   "execution_count": null,
   "metadata": {},
   "outputs": [],
   "source": []
  },
  {
   "cell_type": "markdown",
   "metadata": {},
   "source": [
    "## Parte 2.3 -- Funções Universais (ufunc)\n",
    "\n",
    "1. Crie um linspace no intervalo $[-1,+1]$ com cem amostras  \n",
    "2. Obtenha e plote a função tangente neste intervalo (não use np.tan!)\n",
    "3. A função sigmóide é muito importante no contexto das redes neurais:\n",
    "\n",
    "$$f(x) = \\frac{1}{1 + e^{-\\beta \\cdot x}}$$\n",
    "\n",
    "\n",
    "   3.1 Crie um linspace no intervalo $[-2,+2]$ com 200 amostras  \n",
    "   3.2 Construa uma função em Python que implemente a equação anterior. Utilize um parâmetro nomeado $\\beta = 1$  \n",
    "   3.3 Aplique-a no linspace previamente definido e plote o resultado obtido  \n",
    "   3.4 Incremente o gráfico anterior com $\\beta = 0.8$ e $\\beta = 1.2$, para comparar a curva gerada  \n",
    "   3.5 Capriche no gráfico e inclua legendas!"
   ]
  },
  {
   "cell_type": "code",
   "execution_count": null,
   "metadata": {},
   "outputs": [],
   "source": []
  },
  {
   "cell_type": "code",
   "execution_count": null,
   "metadata": {},
   "outputs": [],
   "source": []
  },
  {
   "cell_type": "markdown",
   "metadata": {},
   "source": [
    "## Parte 2.4 -- Funções agregadas\n",
    "\n",
    "1. Crie um array de 1500 números *inteiros* aleatórios no intervalo $[0,100)$ com distribuição uniforme\n",
    "2. Calcule a média e o desvio padrão\n",
    "3. Suponha que o seu array esteja armazenado na variável a. Execute o código a seguir:\n",
    "\n",
    "```python\n",
    "unique, counts = numpy.unique(a, return_counts=True)\n",
    "d = dict(zip(unique, counts))\n",
    "print(d)\n",
    "```\n",
    "4. Obtenha o valor que mais se repete no vetor inicial"
   ]
  },
  {
   "cell_type": "code",
   "execution_count": null,
   "metadata": {},
   "outputs": [],
   "source": []
  },
  {
   "cell_type": "code",
   "execution_count": null,
   "metadata": {},
   "outputs": [],
   "source": []
  }
 ],
 "metadata": {
  "kernelspec": {
   "display_name": "Python 3",
   "language": "python",
   "name": "python3"
  },
  "language_info": {
   "codemirror_mode": {
    "name": "ipython",
    "version": 3
   },
   "file_extension": ".py",
   "mimetype": "text/x-python",
   "name": "python",
   "nbconvert_exporter": "python",
   "pygments_lexer": "ipython3",
   "version": "3.8.3"
  }
 },
 "nbformat": 4,
 "nbformat_minor": 4
}
